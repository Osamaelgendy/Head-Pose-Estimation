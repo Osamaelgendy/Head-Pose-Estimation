{
  "cells": [
    {
      "cell_type": "markdown",
      "metadata": {
        "id": "BiexosZCsnvD"
      },
      "source": [
        "#### Thanks to:\n",
        "- Amira Adel Foda (intake 42 - smart village branch - group 2)\n",
        "- Asmaa Said (intake 42 - smart village branch - group 2)\n",
        "- Marawan Mohamed (intake 42 - Alex. branch - group 2)\n"
      ]
    },
    {
      "cell_type": "markdown",
      "metadata": {
        "id": "LsCS8ckGAua6"
      },
      "source": [
        "### Installing MediaPipe"
      ]
    },
    {
      "cell_type": "code",
      "execution_count": 1,
      "metadata": {
        "id": "AfVHCj5VAkky"
      },
      "outputs": [],
      "source": [
        "%%capture\n",
        "!pip install mediapipe"
      ]
    },
    {
      "cell_type": "markdown",
      "metadata": {
        "id": "KNdGPfI2A0vD"
      },
      "source": [
        "### Required Libraries"
      ]
    },
    {
      "cell_type": "code",
      "execution_count": 2,
      "metadata": {
        "id": "JMD9H2caAyos"
      },
      "outputs": [],
      "source": [
        "import numpy as np\n",
        "import os,cv2,math,glob,random\n",
        "import scipy.io as sio\n",
        "from math import cos, sin\n",
        "from pathlib import Path\n",
        "import pandas as pd\n",
        "import mediapipe\n",
        "import warnings\n",
        "warnings.filterwarnings('ignore')\n",
        "from google.colab.patches import cv2_imshow\n",
        "from PIL import Image, ImageFilter\n",
        "import imghdr\n",
        "from os import listdir\n",
        "from os.path import isfile, join"
      ]
    },
    {
      "cell_type": "markdown",
      "metadata": {
        "id": "URajmtX-BADF"
      },
      "source": [
        "### Downloading Data"
      ]
    },
    {
      "cell_type": "code",
      "execution_count": 3,
      "metadata": {
        "id": "6fxYX4bXGvr0"
      },
      "outputs": [],
      "source": [
        "# link of the data\n",
        "# http://www.cbsr.ia.ac.cn/users/xiangyuzhu/projects/3DDFA/Database/AFLW2000-3D.zip"
      ]
    },
    {
      "cell_type": "code",
      "execution_count": 4,
      "metadata": {
        "id": "1kExMsUfA9in"
      },
      "outputs": [],
      "source": [
        "# Loading AFLW2000 Data\n",
        "%%capture\n",
        "if os.path.isfile('/content/AFLW2000-3D.zip') == False:\n",
        "  !gdown --id  1fP3zvSCYjll_o_m7S12nvQLZ9MnsEoap\n",
        "  !unzip /content/AFLW2000-3D.zip"
      ]
    },
    {
      "cell_type": "code",
      "execution_count": 5,
      "metadata": {
        "colab": {
          "base_uri": "https://localhost:8080/"
        },
        "id": "jOb7O_XsDLIB",
        "outputId": "69d01d3e-df03-49fa-cb49-7210c4b80b93"
      },
      "outputs": [
        {
          "output_type": "stream",
          "name": "stdout",
          "text": [
            "Mounted at /content/drive\n"
          ]
        }
      ],
      "source": [
        "from google.colab import drive\n",
        "drive.mount('/content/drive')"
      ]
    },
    {
      "cell_type": "code",
      "execution_count": 6,
      "metadata": {
        "colab": {
          "base_uri": "https://localhost:8080/"
        },
        "id": "QTJCL6IIAMkq",
        "outputId": "c3477932-c7b5-4b8f-8a07-3c9dbd3dad57"
      },
      "outputs": [
        {
          "output_type": "stream",
          "name": "stdout",
          "text": [
            "unzip:  cannot find or open /content/drive/MyDrive/AFLW2000-3D.zip, /content/drive/MyDrive/AFLW2000-3D.zip.zip or /content/drive/MyDrive/AFLW2000-3D.zip.ZIP.\n"
          ]
        }
      ],
      "source": [
        "!unzip /content/drive/MyDrive/AFLW2000-3D.zip"
      ]
    },
    {
      "cell_type": "code",
      "execution_count": 7,
      "metadata": {
        "colab": {
          "base_uri": "https://localhost:8080/"
        },
        "id": "gdprn5ozNh84",
        "outputId": "00360d19-1118-4dc5-a30c-e46870d238f9"
      },
      "outputs": [
        {
          "output_type": "execute_result",
          "data": {
            "text/plain": [
              "['image00972',\n",
              " 'image04180',\n",
              " 'image01086',\n",
              " 'image00334',\n",
              " 'image03075',\n",
              " 'image00862',\n",
              " 'image03026',\n",
              " 'image00527',\n",
              " 'image00726',\n",
              " 'image00960',\n",
              " 'image01469',\n",
              " 'image00545',\n",
              " 'image02592',\n",
              " 'image00122',\n",
              " 'image01163',\n",
              " 'image03926',\n",
              " 'image00082',\n",
              " 'image03892',\n",
              " 'image02295',\n",
              " 'image03453',\n",
              " 'image02073',\n",
              " 'image02030',\n",
              " 'image01773',\n",
              " 'image00329',\n",
              " 'image02080',\n",
              " 'image01472',\n",
              " 'image02332',\n",
              " 'image01785',\n",
              " 'image02038',\n",
              " 'image02544',\n",
              " 'image03835',\n",
              " 'image02054',\n",
              " 'image03624',\n",
              " 'image00036',\n",
              " 'image02034',\n",
              " 'image01329',\n",
              " 'image03791',\n",
              " 'image03984',\n",
              " 'image01087',\n",
              " 'image02769',\n",
              " 'image00734',\n",
              " 'image03908',\n",
              " 'image03765',\n",
              " 'image00360',\n",
              " 'image02739',\n",
              " 'image02513',\n",
              " 'image03270',\n",
              " 'image04062',\n",
              " 'image03977',\n",
              " 'image01346',\n",
              " 'image00294',\n",
              " 'image03013',\n",
              " 'image01762',\n",
              " 'image00753',\n",
              " 'image00826',\n",
              " 'image02803',\n",
              " 'image02996',\n",
              " 'image02494',\n",
              " 'image02310',\n",
              " 'image00352',\n",
              " 'image01202',\n",
              " 'image04248',\n",
              " 'image02846',\n",
              " 'image00391',\n",
              " 'image01300',\n",
              " 'image03800',\n",
              " 'image00613',\n",
              " 'image02947',\n",
              " 'image02154',\n",
              " 'image00035',\n",
              " 'image02257',\n",
              " 'image01085',\n",
              " 'image00667',\n",
              " 'image03109',\n",
              " 'image02384',\n",
              " 'image03731',\n",
              " 'image01189',\n",
              " 'image03582',\n",
              " 'image00911',\n",
              " 'image03015',\n",
              " 'image02992',\n",
              " 'image02428',\n",
              " 'image00092',\n",
              " 'image01842',\n",
              " 'image00856',\n",
              " 'image00428',\n",
              " 'image03188',\n",
              " 'image01042',\n",
              " 'image00695',\n",
              " 'image03782',\n",
              " 'image00174',\n",
              " 'image03572',\n",
              " 'image01700',\n",
              " 'image02696',\n",
              " 'image01691',\n",
              " 'image02079',\n",
              " 'image00622',\n",
              " 'image04240',\n",
              " 'image00690',\n",
              " 'image00187',\n",
              " 'image00057',\n",
              " 'image00379',\n",
              " 'image01062',\n",
              " 'image03281',\n",
              " 'image03821',\n",
              " 'image03755',\n",
              " 'image03974',\n",
              " 'image00814',\n",
              " 'image00838',\n",
              " 'image00559',\n",
              " 'image03390',\n",
              " 'image01818',\n",
              " 'image04145',\n",
              " 'image03549',\n",
              " 'image01360',\n",
              " 'image03407',\n",
              " 'image02553',\n",
              " 'image02202',\n",
              " 'image03626',\n",
              " 'image01808',\n",
              " 'image02455',\n",
              " 'image00854',\n",
              " 'image03853',\n",
              " 'image00395',\n",
              " 'image00072',\n",
              " 'image00306',\n",
              " 'image00127',\n",
              " 'image00727',\n",
              " 'image00056',\n",
              " 'image02147',\n",
              " 'image01016',\n",
              " 'image03010',\n",
              " 'image00321',\n",
              " 'image01547',\n",
              " 'image04213',\n",
              " 'image00264',\n",
              " 'image01878',\n",
              " 'image00481',\n",
              " 'image02013',\n",
              " 'image01797',\n",
              " 'image03237',\n",
              " 'image00490',\n",
              " 'image00898',\n",
              " 'image00054',\n",
              " 'image01251',\n",
              " 'image04226',\n",
              " 'image00700',\n",
              " 'image04269',\n",
              " 'image02406',\n",
              " 'image03872',\n",
              " 'image00587',\n",
              " 'image00271',\n",
              " 'image02218',\n",
              " 'image02773',\n",
              " 'image03498',\n",
              " 'image02547',\n",
              " 'image01622',\n",
              " 'image01690',\n",
              " 'image01246',\n",
              " 'image01331',\n",
              " 'image02614',\n",
              " 'image00004',\n",
              " 'image02407',\n",
              " 'image00051',\n",
              " 'image00084',\n",
              " 'image00830',\n",
              " 'image00836',\n",
              " 'image00719',\n",
              " 'image04184',\n",
              " 'image00989',\n",
              " 'image03869',\n",
              " 'image01165',\n",
              " 'image04019',\n",
              " 'image00208',\n",
              " 'image02208',\n",
              " 'image00500',\n",
              " 'image02533',\n",
              " 'image01782',\n",
              " 'image01829',\n",
              " 'image01373',\n",
              " 'image00785',\n",
              " 'image04004',\n",
              " 'image01659',\n",
              " 'image02957',\n",
              " 'image02278',\n",
              " 'image04364',\n",
              " 'image02637',\n",
              " 'image01100',\n",
              " 'image01851',\n",
              " 'image02886',\n",
              " 'image01302',\n",
              " 'image03071',\n",
              " 'image02753',\n",
              " 'image00159',\n",
              " 'image01084',\n",
              " 'image03255',\n",
              " 'image02595',\n",
              " 'image03002',\n",
              " 'image01377',\n",
              " 'image00722',\n",
              " 'image01258',\n",
              " 'image02213',\n",
              " 'image01751',\n",
              " 'image04324',\n",
              " 'image03324',\n",
              " 'image00451',\n",
              " 'image02124',\n",
              " 'image04308',\n",
              " 'image03757',\n",
              " 'image01474',\n",
              " 'image01071',\n",
              " 'image02344',\n",
              " 'image03392',\n",
              " 'image03362',\n",
              " 'image00723',\n",
              " 'image00098',\n",
              " 'image03454',\n",
              " 'image03482',\n",
              " 'image03805',\n",
              " 'image04332',\n",
              " 'image00164',\n",
              " 'image00211',\n",
              " 'image01629',\n",
              " 'image03747',\n",
              " 'image02565',\n",
              " 'image02635',\n",
              " 'image03826',\n",
              " 'image03414',\n",
              " 'image00337',\n",
              " 'image00167',\n",
              " 'image00397',\n",
              " 'image00532',\n",
              " 'image00849',\n",
              " 'image01072',\n",
              " 'image00578',\n",
              " 'image00180',\n",
              " 'image02989',\n",
              " 'image01126',\n",
              " 'image02705',\n",
              " 'image01461',\n",
              " 'image04191',\n",
              " 'image01647',\n",
              " 'image02798',\n",
              " 'image01391',\n",
              " 'image01716',\n",
              " 'image03578',\n",
              " 'image03647',\n",
              " 'image03008',\n",
              " 'image01264',\n",
              " 'image02789',\n",
              " 'image01298',\n",
              " 'image03212',\n",
              " 'image03876',\n",
              " 'image01467',\n",
              " 'image00514',\n",
              " 'image00263',\n",
              " 'image00688',\n",
              " 'image00555',\n",
              " 'image00739',\n",
              " 'image01453',\n",
              " 'image00507',\n",
              " 'image00440',\n",
              " 'image04272',\n",
              " 'image02579',\n",
              " 'image00626',\n",
              " 'image03920',\n",
              " 'image02602',\n",
              " 'image02931',\n",
              " 'image02633',\n",
              " 'image01869',\n",
              " 'image03817',\n",
              " 'image01790',\n",
              " 'image01217',\n",
              " 'image03153',\n",
              " 'image02864',\n",
              " 'image03828',\n",
              " 'image04172',\n",
              " 'image03361',\n",
              " 'image01404',\n",
              " 'image00679',\n",
              " 'image00140',\n",
              " 'image01607',\n",
              " 'image00724',\n",
              " 'image03809',\n",
              " 'image02677',\n",
              " 'image03545',\n",
              " 'image02261',\n",
              " 'image01575',\n",
              " 'image03874',\n",
              " 'image02267',\n",
              " 'image00689',\n",
              " 'image01375',\n",
              " 'image02695',\n",
              " 'image01918',\n",
              " 'image00782',\n",
              " 'image03283',\n",
              " 'image02938',\n",
              " 'image00965',\n",
              " 'image00872',\n",
              " 'image00050',\n",
              " 'image03672',\n",
              " 'image01814',\n",
              " 'image01026',\n",
              " 'image01748',\n",
              " 'image03951',\n",
              " 'image02112',\n",
              " 'image01362',\n",
              " 'image01117',\n",
              " 'image00656',\n",
              " 'image00889',\n",
              " 'image01953',\n",
              " 'image00491',\n",
              " 'image03558',\n",
              " 'image00374',\n",
              " 'image02329',\n",
              " 'image03465',\n",
              " 'image04312',\n",
              " 'image01157',\n",
              " 'image02043',\n",
              " 'image01574',\n",
              " 'image02256',\n",
              " 'image00844',\n",
              " 'image04275',\n",
              " 'image03567',\n",
              " 'image00074',\n",
              " 'image00227',\n",
              " 'image02416',\n",
              " 'image03780',\n",
              " 'image00809',\n",
              " 'image00288',\n",
              " 'image03162',\n",
              " 'image00915',\n",
              " 'image04112',\n",
              " 'image00053',\n",
              " 'image02244',\n",
              " 'image00158',\n",
              " 'image02378',\n",
              " 'image02313',\n",
              " 'image00712',\n",
              " 'image04206',\n",
              " 'image00523',\n",
              " 'image00551',\n",
              " 'image00468',\n",
              " 'image01720',\n",
              " 'image03669',\n",
              " 'image01342',\n",
              " 'image03707',\n",
              " 'image01841',\n",
              " 'image03652',\n",
              " 'image03541',\n",
              " 'image00691',\n",
              " 'image01407',\n",
              " 'image00399',\n",
              " 'image02936',\n",
              " 'image03802',\n",
              " 'image02545',\n",
              " 'image00216',\n",
              " 'image00229',\n",
              " 'image03402',\n",
              " 'image00922',\n",
              " 'image00161',\n",
              " 'image02363',\n",
              " 'image02215',\n",
              " 'image01649',\n",
              " 'image02247',\n",
              " 'image00076',\n",
              " 'image00757',\n",
              " 'image00894',\n",
              " 'image01253',\n",
              " 'image00331',\n",
              " 'image03386',\n",
              " 'image03637',\n",
              " 'image00445',\n",
              " 'image00014',\n",
              " 'image01352',\n",
              " 'image02156',\n",
              " 'image02272',\n",
              " 'image00796',\n",
              " 'image01986',\n",
              " 'image01272',\n",
              " 'image04307',\n",
              " 'image01933',\n",
              " 'image00533',\n",
              " 'image00631',\n",
              " 'image03457',\n",
              " 'image03671',\n",
              " 'image04345',\n",
              " 'image01824',\n",
              " 'image02971',\n",
              " 'image02475',\n",
              " 'image03452',\n",
              " 'image03811',\n",
              " 'image01798',\n",
              " 'image03860',\n",
              " 'image03111',\n",
              " 'image00544',\n",
              " 'image00781',\n",
              " 'image01124',\n",
              " 'image02285',\n",
              " 'image03842',\n",
              " 'image03854',\n",
              " 'image00499',\n",
              " 'image00773',\n",
              " 'image01266',\n",
              " 'image00389',\n",
              " 'image00808',\n",
              " 'image02608',\n",
              " 'image00907',\n",
              " 'image00472',\n",
              " 'image03391',\n",
              " 'image04316',\n",
              " 'image03752',\n",
              " 'image02899',\n",
              " 'image03461',\n",
              " 'image01807',\n",
              " 'image00839',\n",
              " 'image00460',\n",
              " 'image00903',\n",
              " 'image03720',\n",
              " 'image00043',\n",
              " 'image01120',\n",
              " 'image02340',\n",
              " 'image03515',\n",
              " 'image01873',\n",
              " 'image02136',\n",
              " 'image02950',\n",
              " 'image01025',\n",
              " 'image00548',\n",
              " 'image03252',\n",
              " 'image01605',\n",
              " 'image03721',\n",
              " 'image02409',\n",
              " 'image03996',\n",
              " 'image03427',\n",
              " 'image04242',\n",
              " 'image00291',\n",
              " 'image01292',\n",
              " 'image02740',\n",
              " 'image02157',\n",
              " 'image01791',\n",
              " 'image04096',\n",
              " 'image01621',\n",
              " 'image03738',\n",
              " 'image03590',\n",
              " 'image00761',\n",
              " 'image04085',\n",
              " 'image00929',\n",
              " 'image03273',\n",
              " 'image00126',\n",
              " 'image02781',\n",
              " 'image04217',\n",
              " 'image01048',\n",
              " 'image04130',\n",
              " 'image03322',\n",
              " 'image00124',\n",
              " 'image02690',\n",
              " 'image02536',\n",
              " 'image01097',\n",
              " 'image01576',\n",
              " 'image02768',\n",
              " 'image01479',\n",
              " 'image01012',\n",
              " 'image00368',\n",
              " 'image00932',\n",
              " 'image00459',\n",
              " 'image03928',\n",
              " 'image04286',\n",
              " 'image00304',\n",
              " 'image04040',\n",
              " 'image00860',\n",
              " 'image03040',\n",
              " 'image04355',\n",
              " 'image02245',\n",
              " 'image00328',\n",
              " 'image00377',\n",
              " 'image03896',\n",
              " 'image00985',\n",
              " 'image04273',\n",
              " 'image03662',\n",
              " 'image00585',\n",
              " 'image01215',\n",
              " 'image03266',\n",
              " 'image00060',\n",
              " 'image03740',\n",
              " 'image02434',\n",
              " 'image00933',\n",
              " 'image03562',\n",
              " 'image04114',\n",
              " 'image03781',\n",
              " 'image03101',\n",
              " 'image03750',\n",
              " 'image01786',\n",
              " 'image02951',\n",
              " 'image03673',\n",
              " 'image01147',\n",
              " 'image00137',\n",
              " 'image03985',\n",
              " 'image01226',\n",
              " 'image04297',\n",
              " 'image03360',\n",
              " 'image04201',\n",
              " 'image01822',\n",
              " 'image03217',\n",
              " 'image01812',\n",
              " 'image03799',\n",
              " 'image01693',\n",
              " 'image00430',\n",
              " 'image02834',\n",
              " 'image00540',\n",
              " 'image00101',\n",
              " 'image03851',\n",
              " 'image01090',\n",
              " 'image02422',\n",
              " 'image02485',\n",
              " 'image00771',\n",
              " 'image04018',\n",
              " 'image01350',\n",
              " 'image01947',\n",
              " 'image02604',\n",
              " 'image00424',\n",
              " 'image03917',\n",
              " 'image01110',\n",
              " 'image01591',\n",
              " 'image00239',\n",
              " 'image02312',\n",
              " 'image00697',\n",
              " 'image00327',\n",
              " 'image00802',\n",
              " 'image04365',\n",
              " 'image00139',\n",
              " 'image03004',\n",
              " 'image01657',\n",
              " 'image00976',\n",
              " 'image00908',\n",
              " 'image02631',\n",
              " 'image02351',\n",
              " 'image00233',\n",
              " 'image02698',\n",
              " 'image04289',\n",
              " 'image01483',\n",
              " 'image02818',\n",
              " 'image03965',\n",
              " 'image02014',\n",
              " 'image00895',\n",
              " 'image03014',\n",
              " 'image00112',\n",
              " 'image03726',\n",
              " 'image03818',\n",
              " 'image03086',\n",
              " 'image00948',\n",
              " 'image00680',\n",
              " 'image01233',\n",
              " 'image00681',\n",
              " 'image00296',\n",
              " 'image04334',\n",
              " 'image00946',\n",
              " 'image01488',\n",
              " 'image00270',\n",
              " 'image01920',\n",
              " 'image01200',\n",
              " 'image03638',\n",
              " 'image00215',\n",
              " 'image01644',\n",
              " 'image01238',\n",
              " 'image04329',\n",
              " 'image00473',\n",
              " 'image01414',\n",
              " 'image00059',\n",
              " 'image02203',\n",
              " 'image01562',\n",
              " 'image00210',\n",
              " 'image04267',\n",
              " 'image00685',\n",
              " 'image01810',\n",
              " 'image03691',\n",
              " 'image01314',\n",
              " 'image00083',\n",
              " 'image00349',\n",
              " 'image01900',\n",
              " 'image01828',\n",
              " 'image01775',\n",
              " 'image01830',\n",
              " 'image03016',\n",
              " 'image01853',\n",
              " 'image01983',\n",
              " 'image03772',\n",
              " 'image01070',\n",
              " 'image03793',\n",
              " 'image03644',\n",
              " 'image00235',\n",
              " 'image00160',\n",
              " 'image00599',\n",
              " 'image03585',\n",
              " 'image00598',\n",
              " 'image00528',\n",
              " 'image01190',\n",
              " 'image03143',\n",
              " 'image01530',\n",
              " 'image03831',\n",
              " 'image01066',\n",
              " 'image02044',\n",
              " 'image03455',\n",
              " 'image01077',\n",
              " 'image03742',\n",
              " 'image00520',\n",
              " 'image02290',\n",
              " 'image00032',\n",
              " 'image00882',\n",
              " 'image00957',\n",
              " 'image00999',\n",
              " 'image01639',\n",
              " 'image03966',\n",
              " 'image00048',\n",
              " 'image02796',\n",
              " 'image02567',\n",
              " 'image01138',\n",
              " 'image02050',\n",
              " 'image00973',\n",
              " 'image03568',\n",
              " 'image00866',\n",
              " 'image03666',\n",
              " 'image01104',\n",
              " 'image03271',\n",
              " 'image02125',\n",
              " 'image00370',\n",
              " 'image03199',\n",
              " 'image00516',\n",
              " 'image00636',\n",
              " 'image01421',\n",
              " 'image02308',\n",
              " 'image03785',\n",
              " 'image01476',\n",
              " 'image03227',\n",
              " 'image00055',\n",
              " 'image03372',\n",
              " 'image01466',\n",
              " 'image00401',\n",
              " 'image01892',\n",
              " 'image02540',\n",
              " 'image03050',\n",
              " 'image00846',\n",
              " 'image03712',\n",
              " 'image02616',\n",
              " 'image00521',\n",
              " 'image03209',\n",
              " 'image00202',\n",
              " 'image01887',\n",
              " 'image00133',\n",
              " 'image03421',\n",
              " 'image00829',\n",
              " 'image00204',\n",
              " 'image00504',\n",
              " 'image00354',\n",
              " 'image01315',\n",
              " 'image01053',\n",
              " 'image01039',\n",
              " 'image02517',\n",
              " 'image04036',\n",
              " 'image03400',\n",
              " 'image01058',\n",
              " 'image00367',\n",
              " 'image00408',\n",
              " 'image00783',\n",
              " 'image00118',\n",
              " 'image02902',\n",
              " 'image03044',\n",
              " 'image01653',\n",
              " 'image02138',\n",
              " 'image03827',\n",
              " 'image00255',\n",
              " 'image02562',\n",
              " 'image00886',\n",
              " 'image00449',\n",
              " 'image00497',\n",
              " 'image00565',\n",
              " 'image04279',\n",
              " 'image03615',\n",
              " 'image02317',\n",
              " 'image00512',\n",
              " 'image03806',\n",
              " 'image04126',\n",
              " 'image00332',\n",
              " 'image00039',\n",
              " 'image00937',\n",
              " 'image00357',\n",
              " 'image04295',\n",
              " 'image03178',\n",
              " 'image03006',\n",
              " 'image00228',\n",
              " 'image00748',\n",
              " 'image02653',\n",
              " 'image00609',\n",
              " 'image01324',\n",
              " 'image00759',\n",
              " 'image00420',\n",
              " 'image00632',\n",
              " 'image03499',\n",
              " 'image00673',\n",
              " 'image00108',\n",
              " 'image02085',\n",
              " 'image03233',\n",
              " 'image01340',\n",
              " 'image03019',\n",
              " 'image01950',\n",
              " 'image01602',\n",
              " 'image03719',\n",
              " 'image02889',\n",
              " 'image01427',\n",
              " 'image02891',\n",
              " 'image03776',\n",
              " 'image02691',\n",
              " 'image03751',\n",
              " 'image01952',\n",
              " 'image01181',\n",
              " 'image00290',\n",
              " 'image00477',\n",
              " 'image04120',\n",
              " 'image00434',\n",
              " 'image00725',\n",
              " 'image01671',\n",
              " 'image03748',\n",
              " 'image00615',\n",
              " 'image03739',\n",
              " 'image02884',\n",
              " 'image02829',\n",
              " 'image02367',\n",
              " 'image00918',\n",
              " 'image01003',\n",
              " 'image04337',\n",
              " 'image00775',\n",
              " 'image00151',\n",
              " 'image02300',\n",
              " 'image02171',\n",
              " 'image01934',\n",
              " 'image00482',\n",
              " 'image00595',\n",
              " 'image04344',\n",
              " 'image03532',\n",
              " 'image03250',\n",
              " 'image03804',\n",
              " 'image04299',\n",
              " 'image01870',\n",
              " 'image02152',\n",
              " 'image04012',\n",
              " 'image04102',\n",
              " 'image03148',\n",
              " 'image00338',\n",
              " 'image02759',\n",
              " 'image00650',\n",
              " 'image03124',\n",
              " 'image03705',\n",
              " 'image01268',\n",
              " 'image00604',\n",
              " 'image03210',\n",
              " 'image00710',\n",
              " 'image00299',\n",
              " 'image02520',\n",
              " 'image00439',\n",
              " 'image03932',\n",
              " 'image02179',\n",
              " 'image03129',\n",
              " 'image03018',\n",
              " 'image03488',\n",
              " 'image02307',\n",
              " 'image03053',\n",
              " 'image00863',\n",
              " 'image03736',\n",
              " 'image01780',\n",
              " 'image04310',\n",
              " 'image01323',\n",
              " 'image03833',\n",
              " 'image03816',\n",
              " 'image00198',\n",
              " 'image02031',\n",
              " 'image02236',\n",
              " 'image03715',\n",
              " 'image02531',\n",
              " 'image00475',\n",
              " 'image01149',\n",
              " 'image00612',\n",
              " 'image04168',\n",
              " 'image02071',\n",
              " 'image00954',\n",
              " 'image02239',\n",
              " 'image02254',\n",
              " 'image03566',\n",
              " 'image00437',\n",
              " 'image03774',\n",
              " 'image02145',\n",
              " 'image01506',\n",
              " 'image01168',\n",
              " 'image04028',\n",
              " 'image00077',\n",
              " 'image00693',\n",
              " 'image00892',\n",
              " 'image03077',\n",
              " 'image02094',\n",
              " 'image03665',\n",
              " 'image04186',\n",
              " 'image02214',\n",
              " 'image04157',\n",
              " 'image03766',\n",
              " 'image03992',\n",
              " 'image01854',\n",
              " 'image02057',\n",
              " 'image00941',\n",
              " 'image00842',\n",
              " 'image03561',\n",
              " 'image01065',\n",
              " 'image00961',\n",
              " 'image01460',\n",
              " 'image02196',\n",
              " 'image01733',\n",
              " 'image00607',\n",
              " 'image01299',\n",
              " 'image00278',\n",
              " 'image02211',\n",
              " 'image03753',\n",
              " 'image03117',\n",
              " 'image00547',\n",
              " 'image01416',\n",
              " 'image03537',\n",
              " 'image02792',\n",
              " 'image01711',\n",
              " 'image02674',\n",
              " 'image01249',\n",
              " 'image00855',\n",
              " 'image00006',\n",
              " 'image00558',\n",
              " 'image03794',\n",
              " 'image00743',\n",
              " 'image01017',\n",
              " 'image00218',\n",
              " 'image00733',\n",
              " 'image03677',\n",
              " 'image03588',\n",
              " 'image01334',\n",
              " 'image03870',\n",
              " 'image02632',\n",
              " 'image02058',\n",
              " 'image04078',\n",
              " 'image00260',\n",
              " 'image02825',\n",
              " 'image01991',\n",
              " 'image01784',\n",
              " 'image00376',\n",
              " 'image00080',\n",
              " 'image02720',\n",
              " 'image00791',\n",
              " 'image02985',\n",
              " 'image01604',\n",
              " 'image02712',\n",
              " 'image03768',\n",
              " 'image02990',\n",
              " 'image01419',\n",
              " 'image00318',\n",
              " 'image01400',\n",
              " 'image02176',\n",
              " 'image02721',\n",
              " 'image03216',\n",
              " 'image00410',\n",
              " 'image01916',\n",
              " 'image00608',\n",
              " 'image03700',\n",
              " 'image00557',\n",
              " 'image01675',\n",
              " 'image01496',\n",
              " 'image00168',\n",
              " 'image00179',\n",
              " 'image01161',\n",
              " 'image01795',\n",
              " 'image03651',\n",
              " 'image01220',\n",
              " 'image02195',\n",
              " 'image00044',\n",
              " 'image01781',\n",
              " 'image00315',\n",
              " 'image00982',\n",
              " 'image02017',\n",
              " 'image00580',\n",
              " 'image03480',\n",
              " 'image00416',\n",
              " 'image01513',\n",
              " 'image01623',\n",
              " 'image00877',\n",
              " 'image03376',\n",
              " 'image00040',\n",
              " 'image00617',\n",
              " 'image00940',\n",
              " 'image00741',\n",
              " 'image01475',\n",
              " 'image03462',\n",
              " 'image02841',\n",
              " 'image01885',\n",
              " 'image02630',\n",
              " 'image03563',\n",
              " 'image01922',\n",
              " 'image02369',\n",
              " 'image03998',\n",
              " 'image00935',\n",
              " 'image04128',\n",
              " 'image00259',\n",
              " 'image02234',\n",
              " 'image01247',\n",
              " 'image00930',\n",
              " 'image01641',\n",
              " 'image02836',\n",
              " 'image00203',\n",
              " 'image00419',\n",
              " 'image01874',\n",
              " 'image01732',\n",
              " 'image00591',\n",
              " 'image02099',\n",
              " 'image02345',\n",
              " 'image03790',\n",
              " 'image03592',\n",
              " 'image01486',\n",
              " 'image00624',\n",
              " 'image00968',\n",
              " 'image03824',\n",
              " 'image01739',\n",
              " 'image03836',\n",
              " 'image02036',\n",
              " 'image02811',\n",
              " 'image00324',\n",
              " 'image00518',\n",
              " 'image00064',\n",
              " 'image00298',\n",
              " 'image02464',\n",
              " 'image01059',\n",
              " 'image04188',\n",
              " 'image00515',\n",
              " 'image02826',\n",
              " 'image01164',\n",
              " 'image01868',\n",
              " 'image04251',\n",
              " 'image00190',\n",
              " 'image00745',\n",
              " 'image00483',\n",
              " 'image02866',\n",
              " 'image00393',\n",
              " 'image00747',\n",
              " 'image00170',\n",
              " 'image01328',\n",
              " 'image00359',\n",
              " 'image04358',\n",
              " 'image02629',\n",
              " 'image00614',\n",
              " 'image04207',\n",
              " 'image02114',\n",
              " 'image03506',\n",
              " 'image03670',\n",
              " 'image03709',\n",
              " 'image02617',\n",
              " 'image01699',\n",
              " 'image02440',\n",
              " 'image02831',\n",
              " 'image00623',\n",
              " 'image04244',\n",
              " 'image02210',\n",
              " 'image00214',\n",
              " 'image03442',\n",
              " 'image00070',\n",
              " 'image01811',\n",
              " 'image00330',\n",
              " 'image00345',\n",
              " 'image00262',\n",
              " 'image00847',\n",
              " 'image02249',\n",
              " 'image03636',\n",
              " 'image00028',\n",
              " 'image04024',\n",
              " 'image00983',\n",
              " 'image02606',\n",
              " 'image03744',\n",
              " 'image00503',\n",
              " 'image04276',\n",
              " 'image02375',\n",
              " 'image03777',\n",
              " 'image03189',\n",
              " 'image02615',\n",
              " 'image03174',\n",
              " 'image01014',\n",
              " 'image02282',\n",
              " 'image01802',\n",
              " 'image03524',\n",
              " 'image00282',\n",
              " 'image02298',\n",
              " 'image04325',\n",
              " 'image02209',\n",
              " 'image01646',\n",
              " 'image02049',\n",
              " 'image03786',\n",
              " 'image00979',\n",
              " 'image02953',\n",
              " 'image02142',\n",
              " 'image00090',\n",
              " 'image00778',\n",
              " 'image02688',\n",
              " 'image02683',\n",
              " ...]"
            ]
          },
          "metadata": {},
          "execution_count": 7
        }
      ],
      "source": [
        "mylist = [Path(f).stem for f in glob.glob(\"/content/AFLW2000/*.jpg\")]\n",
        "mylist"
      ]
    },
    {
      "cell_type": "markdown",
      "source": [
        "# Helper Functions"
      ],
      "metadata": {
        "id": "Fsq9qVi-WwA_"
      }
    },
    {
      "cell_type": "code",
      "execution_count": 8,
      "metadata": {
        "id": "o4EJJpSO4n1i"
      },
      "outputs": [],
      "source": [
        "def get_list_from_filenames(file_path):\n",
        "    # input:    relative path to .txt file with file names\n",
        "    # output:   list of relative path names\n",
        "    lines = [Path(f).stem for f in glob.glob(file_path)]\n",
        "    return lines\n"
      ]
    },
    {
      "cell_type": "code",
      "execution_count": 9,
      "metadata": {
        "id": "3VhI1fT54qm1"
      },
      "outputs": [],
      "source": [
        "def get_ypr_from_mat(mat_path):\n",
        "    # Get yaw, pitch, roll from .mat annotation.\n",
        "    # They are in radians\n",
        "    mat = sio.loadmat(mat_path)\n",
        "    # [pitch yaw roll tdx tdy tdz scale_factor]\n",
        "    pre_pose_params = mat['Pose_Para'][0]\n",
        "    # Get [pitch, yaw, roll]\n",
        "    pose_params = pre_pose_params[:3]\n",
        "    return pose_params"
      ]
    },
    {
      "cell_type": "code",
      "execution_count": 10,
      "metadata": {
        "id": "D31yQp2_5FRS"
      },
      "outputs": [],
      "source": [
        "def get_pt2d_from_mat(mat_path):\n",
        "    # Get 2D landmarks\n",
        "    mat = sio.loadmat(mat_path)\n",
        "    pt2d = mat['pt2d']\n",
        "    return pt2d"
      ]
    },
    {
      "cell_type": "code",
      "execution_count": 11,
      "metadata": {
        "id": "PwhN725R3mko"
      },
      "outputs": [],
      "source": [
        "class AFLW2000():\n",
        "    def __init__(self, data_dir,file_path, img_ext='.jpg', annot_ext='.mat', image_mode='RGB'):\n",
        "        self.data_dir = data_dir\n",
        "        self.file_path = file_path\n",
        "        self.img_ext = img_ext\n",
        "        self.annot_ext = annot_ext\n",
        "\n",
        "        filename_list = get_list_from_filenames(data_dir)\n",
        "        filename_list.sort()\n",
        "        self.X_train = filename_list\n",
        "        self.y_train = filename_list\n",
        "        self.image_mode = image_mode\n",
        "        self.length = len(filename_list)\n",
        "\n",
        "    def __getitem__(self, index):\n",
        "        img = Image.open(os.path.join(self.file_path,self.X_train[index] + self.img_ext))\n",
        "        print(img)\n",
        "        img = img.convert(self.image_mode)\n",
        "        mat_path = os.path.join(self.file_path,self.y_train[index] + self.annot_ext)\n",
        "        \n",
        "\n",
        "        # Crop the face loosely\n",
        "        pt2d = get_pt2d_from_mat(mat_path)\n",
        "        #print(\"pt2d\",pt2d)\n",
        "       # print(\"pt2d shape\",pt2d.shape)\n",
        "\n",
        "\n",
        "        x_min = min(pt2d[0,:])\n",
        "        y_min = min(pt2d[1,:])\n",
        "        x_max = max(pt2d[0,:])\n",
        "        y_max = max(pt2d[1,:])\n",
        "\n",
        "        k = 0.20\n",
        "        x_min -= 2 * k * abs(x_max - x_min)\n",
        "        y_min -= 2 * k * abs(y_max - y_min)\n",
        "        x_max += 2 * k * abs(x_max - x_min)\n",
        "        y_max += 0.6 * k * abs(y_max - y_min)\n",
        "        img = img.crop((int(x_min), int(y_min), int(x_max), int(y_max)))\n",
        "\n",
        "        # We get the pose in radians\n",
        "        pose = get_ypr_from_mat(mat_path)\n",
        "        # And convert to degrees.\n",
        "        pitch = pose[0] * 180 / np.pi\n",
        "        yaw = pose[1] * 180 / np.pi\n",
        "        roll = pose[2] * 180 / np.pi\n",
        "        # Bin values\n",
        "        bins = np.array(range(-99, 102, 3))\n",
        "        labels =np.digitize([yaw, pitch, roll], bins) - 1\n",
        "        cont_labels = [yaw, pitch, roll]\n",
        "\n",
        "        # if self.transform is not None:\n",
        "        #     img = self.transform(img)\n",
        "        # return cont_labels\n",
        "        return cont_labels\n",
        "\n",
        "    def __len__(self):\n",
        "        # 2,000\n",
        "        return self.length\n",
        "\n",
        "\n",
        "\n",
        "    #my_func    \n",
        "    def getitem3(self, index,image_mode='RGB'):\n",
        "        ## index jpg inamge\n",
        "        ##mat_path .mat image\n",
        "        img = Image.open(os.path.join(self.file_path,self.X_train[index] + self.img_ext))\n",
        "        img = img.convert(self.image_mode)\n",
        "        mat_path = os.path.join(self.file_path,self.y_train[index] + self.annot_ext)\n",
        "\n",
        "        # Crop the face loosely\n",
        "        pt3d = get_pt3d_from_mat(mat_path)\n",
        "\n",
        "        x_min = min(pt3d[0,:])\n",
        "        y_min = min(pt3d[1,:])\n",
        "        x_max = max(pt3d[0,:])\n",
        "        y_max = max(pt3d[1,:])\n",
        "\n",
        "        k = 0.20\n",
        "        x_min -= 2 * k * abs(x_max - x_min)\n",
        "        y_min -= 2 * k * abs(y_max - y_min)\n",
        "        x_max += 2 * k * abs(x_max - x_min)\n",
        "        y_max += 0.6 * k * abs(y_max - y_min)\n",
        "        img = img.crop((int(x_min), int(y_min), int(x_max), int(y_max)))\n",
        "\n",
        "        # We get the pose in radians\n",
        "        pose = get_ypr_from_mat(mat_path)\n",
        "        # And convert to degrees.\n",
        "        pitch = pose[0] * 180 / np.pi\n",
        "        yaw = pose[1] * 180 / np.pi\n",
        "        roll = pose[2] * 180 / np.pi\n",
        "        # Bin values\n",
        "        #bins = np.array(range(-99, 102, 3))\n",
        "       #labels =np.digitize([yaw, pitch, roll], bins) - 1\n",
        "        labels = [yaw, pitch, roll]\n",
        "        x, y = pt3d[0,:],pt3d[1,:]\n",
        "        # if transform is not None:\n",
        "        #     img = transform(img)\n",
        "\n",
        "        return x,y, labels\n",
        "    \n",
        "\n",
        "\n",
        "\n",
        "\n"
      ]
    },
    {
      "cell_type": "code",
      "execution_count": 12,
      "metadata": {
        "id": "oZVe65YyFJdF"
      },
      "outputs": [],
      "source": [
        "def draw_axis(img, pitch,yaw,roll, tdx=None, tdy=None, size = 100):\n",
        "\n",
        "    yaw = -yaw\n",
        "    if tdx != None and tdy != None:\n",
        "        tdx = tdx\n",
        "        tdy = tdy\n",
        "    else:\n",
        "        height, width = img.shape[:2]\n",
        "        tdx = width / 2\n",
        "        tdy = height / 2\n",
        "\n",
        "    # X-Axis pointing to right. drawn in red\n",
        "    x1 = size * (cos(yaw) * cos(roll)) + tdx\n",
        "    y1 = size * (cos(pitch) * sin(roll) + cos(roll) * sin(pitch) * sin(yaw)) + tdy\n",
        "\n",
        "    # Y-Axis | drawn in green\n",
        "    #        v\n",
        "    x2 = size * (-cos(yaw) * sin(roll)) + tdx\n",
        "    y2 = size * (cos(pitch) * cos(roll) - sin(pitch) * sin(yaw) * sin(roll)) + tdy\n",
        "\n",
        "    # Z-Axis (out of the screen) drawn in blue\n",
        "    x3 = size * (sin(yaw)) + tdx\n",
        "    y3 = size * (-cos(yaw) * sin(pitch)) + tdy\n",
        "\n",
        "    cv2.line(img, (int(tdx), int(tdy)), (int(x1),int(y1)),(0,0,255),3)\n",
        "    cv2.line(img, (int(tdx), int(tdy)), (int(x2),int(y2)),(0,255,0),3)\n",
        "    cv2.line(img, (int(tdx), int(tdy)), (int(x3),int(y3)),(255,0,0),2)\n",
        "\n",
        "    return img"
      ]
    },
    {
      "cell_type": "markdown",
      "metadata": {
        "id": "Bnjmn1cpBPU4"
      },
      "source": [
        "### Preparing Data"
      ]
    },
    {
      "cell_type": "code",
      "execution_count": 13,
      "metadata": {
        "id": "osmWTAzTBKE1"
      },
      "outputs": [],
      "source": [
        "all_images = mylist\n",
        "all_points_x = []\n",
        "all_points_y = []\n",
        "angels = []\n",
        "faceModule = mediapipe.solutions.face_mesh\n",
        "for img in (all_images):\n",
        "  with faceModule.FaceMesh(static_image_mode=True) as faces:\n",
        "      # loading the image\n",
        "    image = cv2.imread('/content/AFLW2000/'+img+'.jpg')\n",
        "        # processing the face to extract the landmark points (468 point) for each x,y,z\n",
        "    results = faces.process(cv2.cvtColor(image, cv2.COLOR_BGR2RGB))\n",
        "    if results.multi_face_landmarks != None:\n",
        "      x_img = []\n",
        "      y_img = []\n",
        "      face = results.multi_face_landmarks[0] \n",
        "      # looping over the face points\n",
        "      for  landmark in (face.landmark):\n",
        "          x = landmark.x\n",
        "          y = landmark.y\n",
        "          # note: the x and y values are scaled to the their width and height so we will get back their actual value in the image\n",
        "          shape = image.shape \n",
        "          relative_x = int(x * shape[1])\n",
        "          relative_y = int(y * shape[0])\n",
        "          x_img.append(relative_x)\n",
        "          y_img.append(relative_y)\n",
        "      all_points_x.append(x_img)\n",
        "      all_points_y.append(y_img)\n",
        "      mat_file = sio.loadmat('/content/AFLW2000/'+img+'.mat')\n",
        "      # extracting the labels 3 angels\n",
        "      pose_para = mat_file[\"Pose_Para\"][0][:3]\n",
        "      # appending the 3 angels to labels list\n",
        "      angels.append(pose_para)\n"
      ]
    },
    {
      "cell_type": "markdown",
      "source": [
        "# Checking how many images Mediapipe actually captuerd"
      ],
      "metadata": {
        "id": "XmQjjIZxAWSe"
      }
    },
    {
      "cell_type": "code",
      "execution_count": 14,
      "metadata": {
        "colab": {
          "base_uri": "https://localhost:8080/"
        },
        "id": "dWXevC1ZlxJt",
        "outputId": "e816d843-d343-44e0-88ce-9b44337e8e0c"
      },
      "outputs": [
        {
          "output_type": "stream",
          "name": "stdout",
          "text": [
            "1853\n"
          ]
        }
      ],
      "source": [
        "print(len(all_points_x))\n"
      ]
    },
    {
      "cell_type": "markdown",
      "source": [
        "# Stacking points into array"
      ],
      "metadata": {
        "id": "CUt7S4xCAdjw"
      }
    },
    {
      "cell_type": "code",
      "execution_count": 15,
      "metadata": {
        "colab": {
          "base_uri": "https://localhost:8080/"
        },
        "id": "ttfXJKWKumjR",
        "outputId": "4ec03ab4-7453-4f6d-c098-0c73f7d56b21"
      },
      "outputs": [
        {
          "output_type": "execute_result",
          "data": {
            "text/plain": [
              "(1853, 468)"
            ]
          },
          "metadata": {},
          "execution_count": 15
        }
      ],
      "source": [
        "all_points_x = np.array(all_points_x)\n",
        "all_points_y = np.array(all_points_y)\n",
        "all_points_x.shape"
      ]
    },
    {
      "cell_type": "markdown",
      "source": [
        "# Centering the points at index 99"
      ],
      "metadata": {
        "id": "S02H59gfAmNs"
      }
    },
    {
      "cell_type": "code",
      "execution_count": 16,
      "metadata": {
        "id": "RSayPmEKu5N-"
      },
      "outputs": [],
      "source": [
        "all_points_x = all_points_x - all_points_x[:,99].reshape(-1,1)\n",
        "all_points_y = all_points_y - all_points_y[:,99].reshape(-1,1)"
      ]
    },
    {
      "cell_type": "markdown",
      "source": [
        "# Choosing the distance between 2 random points and divide all points by that distance"
      ],
      "metadata": {
        "id": "10hG-4vBAtld"
      }
    },
    {
      "cell_type": "code",
      "execution_count": 17,
      "metadata": {
        "id": "4mQlgPyYnrZz"
      },
      "outputs": [],
      "source": [
        "x300, y300 = all_points_x[:, 300],all_points_y[:, 300]\n",
        "x131, y131 = all_points_x[:, 131],all_points_y[:, 131]\n",
        "dist = np.linalg.norm(np.array((x300, y300)) - np.array((x131, y131)),axis = 0).reshape(-1,1)\n",
        "\n",
        "featuers_x = all_points_x / dist\n",
        "featuers_y = all_points_y / dist"
      ]
    },
    {
      "cell_type": "code",
      "execution_count": 18,
      "metadata": {
        "id": "z6_IpMwtwfIn"
      },
      "outputs": [],
      "source": [
        "featuers = np.hstack((featuers_x, featuers_y))"
      ]
    },
    {
      "cell_type": "code",
      "execution_count": null,
      "metadata": {
        "colab": {
          "base_uri": "https://localhost:8080/"
        },
        "id": "0n6VVCyKKmrY",
        "outputId": "6c3bbc61-dd5d-4801-c201-f0ed6a54bf4d"
      },
      "outputs": [
        {
          "output_type": "execute_result",
          "data": {
            "text/plain": [
              "(1853, 936)"
            ]
          },
          "metadata": {},
          "execution_count": 18
        }
      ],
      "source": [
        "featuers.shape"
      ]
    },
    {
      "cell_type": "code",
      "execution_count": null,
      "metadata": {
        "colab": {
          "base_uri": "https://localhost:8080/"
        },
        "id": "sXAndjQ0n6fM",
        "outputId": "a3e04bef-3da7-4951-bed1-39acc54245fd"
      },
      "outputs": [
        {
          "output_type": "execute_result",
          "data": {
            "text/plain": [
              "array([[ 0.08995138,  0.06746354,  0.08245543, ..., -0.44226097,\n",
              "        -0.53221235, -0.5547002 ],\n",
              "       [ 0.04808414, -0.08242995,  0.04121497, ..., -0.43962639,\n",
              "        -0.54953299, -0.61135545],\n",
              "       [ 0.10459527,  0.08498366,  0.09152086, ..., -0.47067872,\n",
              "        -0.62757163, -0.65372045],\n",
              "       ...,\n",
              "       [ 0.05941864,  0.23767456,  0.10695355, ..., -0.55853522,\n",
              "        -0.68925622, -0.73679114],\n",
              "       [-0.02572479,  0.01714986,  0.04287465, ..., -0.28297267,\n",
              "        -0.18864844, -0.2057983 ],\n",
              "       [ 0.20261844,  0.25890134,  0.1688487 , ..., -0.54031584,\n",
              "        -0.55157242, -0.59659874]])"
            ]
          },
          "metadata": {},
          "execution_count": 19
        }
      ],
      "source": [
        "featuers"
      ]
    },
    {
      "cell_type": "code",
      "execution_count": 19,
      "metadata": {
        "id": "gm_2twwqpTpZ"
      },
      "outputs": [],
      "source": [
        "# Preparing the angles\n",
        "labels = np.zeros((1853, 3))\n",
        "for i in range(len(angels)):\n",
        "  labels[i,:] = angels[i]\n"
      ]
    },
    {
      "cell_type": "code",
      "execution_count": null,
      "metadata": {
        "colab": {
          "base_uri": "https://localhost:8080/"
        },
        "id": "U17LV38qqRuH",
        "outputId": "a67549b2-6afc-4ab5-b43e-ca4dc78ab2a3"
      },
      "outputs": [
        {
          "output_type": "execute_result",
          "data": {
            "text/plain": [
              "(1853, 3)"
            ]
          },
          "metadata": {},
          "execution_count": 21
        }
      ],
      "source": [
        "labels.shape"
      ]
    },
    {
      "cell_type": "code",
      "execution_count": null,
      "metadata": {
        "colab": {
          "base_uri": "https://localhost:8080/"
        },
        "id": "iHqzb7yXprC4",
        "outputId": "e3bc4581-27d1-43c0-f60d-93bde1214f29"
      },
      "outputs": [
        {
          "output_type": "execute_result",
          "data": {
            "text/plain": [
              "array([[ 0.075391  ,  0.06628842, -0.07607973],\n",
              "       [-0.51412052,  0.75234222, -0.34148681],\n",
              "       [-0.34731895, -0.02775929, -0.09128705],\n",
              "       ...,\n",
              "       [-0.53795624, -0.47879195,  0.25495899],\n",
              "       [ 0.28218687,  0.60487312,  0.47403568],\n",
              "       [ 0.38623983, -0.32851034, -0.10940092]])"
            ]
          },
          "metadata": {},
          "execution_count": 22
        }
      ],
      "source": [
        "labels"
      ]
    },
    {
      "cell_type": "code",
      "execution_count": 20,
      "metadata": {
        "id": "LFcw0p4nF8aA"
      },
      "outputs": [],
      "source": [
        "from sklearn.model_selection import train_test_split"
      ]
    },
    {
      "cell_type": "code",
      "execution_count": 21,
      "metadata": {
        "id": "rgE64lPTL37M"
      },
      "outputs": [],
      "source": [
        "X, y_yaw = featuers, labels[:,1]\n",
        "X, y_pitch = featuers, labels[:,0]\n",
        "X, y_roll = featuers, labels[:,2]"
      ]
    },
    {
      "cell_type": "code",
      "execution_count": 22,
      "metadata": {
        "id": "OmMWdEXaLtay"
      },
      "outputs": [],
      "source": [
        "X_train_yaw, X_test_yaw, y_train_yaw, y_test_yaw =train_test_split(X, y_yaw, random_state = 1) \n",
        "X_train_pitch, X_test_pitch, y_train_pitch, y_test_pitch =train_test_split(X, y_pitch, random_state = 1) \n",
        "X_train_roll, X_test_roll, y_train_roll, y_test_roll =train_test_split(X, y_roll, random_state = 1) "
      ]
    },
    {
      "cell_type": "code",
      "execution_count": 23,
      "metadata": {
        "id": "gboKRiT0rFoW"
      },
      "outputs": [],
      "source": [
        "from sklearn.metrics import mean_squared_error\n",
        "from sklearn.metrics import mean_absolute_error\n",
        "from sklearn.ensemble import GradientBoostingRegressor\n",
        "from sklearn.tree import DecisionTreeRegressor\n",
        "from sklearn.linear_model import LinearRegression, Lasso, Ridge \n",
        "import xgboost as xgb\n",
        "from sklearn.ensemble import GradientBoostingRegressor\n",
        "from sklearn.ensemble import AdaBoostRegressor\n",
        "from sklearn.svm import SVR\n",
        "from sklearn.model_selection import GridSearchCV\n",
        "from sklearn.model_selection import validation_curve\n"
      ]
    },
    {
      "cell_type": "markdown",
      "source": [
        "# Cross Validation for the three angels to know which model is the best between SVR & XGBRegressor"
      ],
      "metadata": {
        "id": "fiaxGVWDxeTg"
      }
    },
    {
      "cell_type": "code",
      "execution_count": null,
      "metadata": {
        "colab": {
          "base_uri": "https://localhost:8080/"
        },
        "id": "obHd_PN_nnwU",
        "outputId": "cac7dd22-8d94-4510-b800-d0da40dc3aaa"
      },
      "outputs": [
        {
          "output_type": "stream",
          "name": "stdout",
          "text": [
            "for yaw:[[0.88328035 0.89362469 0.89828194 0.92450203 0.95736033]\n",
            " [0.90279295 0.91400656 0.91555695 0.95043847 0.95985105]\n",
            " [0.91831809 0.92906348 0.92795701 0.96212122 0.96126696]]\n",
            "for yaw:[[ 0.94586088  0.96121241  0.90825695  0.64110588  0.65088932]\n",
            " [ 0.94184823  0.95775915  0.90456344 -0.04519637  0.6470508 ]\n",
            " [ 0.93240529  0.95373591  0.90090408 -1.06550309  0.6466714 ]]\n",
            "for pitch:[[0.34959187 0.39972364 0.35707104 0.49303842 0.84141935]\n",
            " [0.40712504 0.47544273 0.40547368 0.61557713 0.85551401]\n",
            " [0.46039269 0.53587759 0.44740763 0.71872342 0.86447406]]\n",
            "for pitch:[[ 0.65126356  0.70402498  0.62000475 -0.62043259  0.08746624]\n",
            " [ 0.60299381  0.66579545  0.58972567 -3.54211393  0.07550122]\n",
            " [ 0.53551458  0.63453019  0.555211   -7.82181039  0.07085537]]\n",
            "for roll:[[0.41467439 0.4639453  0.43106102 0.52090055 0.91391348]\n",
            " [0.46281321 0.51045668 0.4753347  0.62433909 0.91787287]\n",
            " [0.50411111 0.55246669 0.51285321 0.70660393 0.92110086]]\n",
            "for roll:[[ 0.82151233  0.80168454  0.79007957  0.30943272  0.2203001 ]\n",
            " [ 0.85031662  0.78439196  0.79059488 -1.44687015  0.21349262]\n",
            " [ 0.86533523  0.76451606  0.80433588 -4.1099259   0.20713345]]\n"
          ]
        }
      ],
      "source": [
        "train_scores, valid_scores = validation_curve(\n",
        "     SVR(), X_train_yaw, y_train_yaw, param_name=\"C\", param_range=[100, 200, 300],\n",
        "    cv=5)\n",
        "print(f\"for yaw:{train_scores}\")\n",
        "print(f\"for yaw:{valid_scores}\")\n",
        "train_scores, valid_scores = validation_curve(\n",
        "     SVR(), X_train_pitch, y_train_pitch, param_name=\"C\", param_range=[100, 200, 300],\n",
        "    cv=5)\n",
        "print(f\"for pitch:{train_scores}\")\n",
        "print(f\"for pitch:{valid_scores}\")\n",
        "train_scores, valid_scores = validation_curve(\n",
        "     SVR(), X_train_roll, y_train_roll, param_name=\"C\", param_range=[100, 200, 300],\n",
        "    cv=5)\n",
        "print(f\"for roll:{train_scores}\")\n",
        "print(f\"for roll:{valid_scores}\")"
      ]
    },
    {
      "cell_type": "code",
      "source": [
        "train_scores, valid_scores = validation_curve(\n",
        "     xgb.XGBRegressor(), X_train_yaw, y_train_yaw, param_name=\"C\", param_range=[100, 200, 300],\n",
        "    cv=5)\n",
        "print(f\"for yaw:{train_scores}\")\n",
        "print(f\"for yaw:{valid_scores}\")\n",
        "\n"
      ],
      "metadata": {
        "colab": {
          "base_uri": "https://localhost:8080/"
        },
        "id": "Wa9i2nILkPMi",
        "outputId": "46f63e94-a079-42bd-f92f-45755c3e4a94"
      },
      "execution_count": null,
      "outputs": [
        {
          "output_type": "stream",
          "name": "stdout",
          "text": [
            "[09:38:02] WARNING: /workspace/src/objective/regression_obj.cu:152: reg:linear is now deprecated in favor of reg:squarederror.\n",
            "[09:38:08] WARNING: /workspace/src/objective/regression_obj.cu:152: reg:linear is now deprecated in favor of reg:squarederror.\n",
            "[09:38:14] WARNING: /workspace/src/objective/regression_obj.cu:152: reg:linear is now deprecated in favor of reg:squarederror.\n",
            "[09:38:20] WARNING: /workspace/src/objective/regression_obj.cu:152: reg:linear is now deprecated in favor of reg:squarederror.\n",
            "[09:38:26] WARNING: /workspace/src/objective/regression_obj.cu:152: reg:linear is now deprecated in favor of reg:squarederror.\n",
            "[09:38:32] WARNING: /workspace/src/objective/regression_obj.cu:152: reg:linear is now deprecated in favor of reg:squarederror.\n",
            "[09:38:38] WARNING: /workspace/src/objective/regression_obj.cu:152: reg:linear is now deprecated in favor of reg:squarederror.\n",
            "[09:38:44] WARNING: /workspace/src/objective/regression_obj.cu:152: reg:linear is now deprecated in favor of reg:squarederror.\n",
            "[09:38:50] WARNING: /workspace/src/objective/regression_obj.cu:152: reg:linear is now deprecated in favor of reg:squarederror.\n",
            "[09:38:56] WARNING: /workspace/src/objective/regression_obj.cu:152: reg:linear is now deprecated in favor of reg:squarederror.\n",
            "[09:39:02] WARNING: /workspace/src/objective/regression_obj.cu:152: reg:linear is now deprecated in favor of reg:squarederror.\n",
            "[09:39:08] WARNING: /workspace/src/objective/regression_obj.cu:152: reg:linear is now deprecated in favor of reg:squarederror.\n",
            "[09:39:14] WARNING: /workspace/src/objective/regression_obj.cu:152: reg:linear is now deprecated in favor of reg:squarederror.\n",
            "[09:39:20] WARNING: /workspace/src/objective/regression_obj.cu:152: reg:linear is now deprecated in favor of reg:squarederror.\n",
            "[09:39:26] WARNING: /workspace/src/objective/regression_obj.cu:152: reg:linear is now deprecated in favor of reg:squarederror.\n",
            "for yaw:[[0.98221447 0.98054362 0.98591421 0.98295537 0.98671655]\n",
            " [0.98221447 0.98054362 0.98591421 0.98295537 0.98671655]\n",
            " [0.98221447 0.98054362 0.98591421 0.98295537 0.98671655]]\n",
            "for yaw:[[0.92032499 0.95207588 0.8893028  0.81287465 0.66158143]\n",
            " [0.92032499 0.95207588 0.8893028  0.81287465 0.66158143]\n",
            " [0.92032499 0.95207588 0.8893028  0.81287465 0.66158143]]\n"
          ]
        }
      ]
    },
    {
      "cell_type": "code",
      "source": [
        "train_scores, valid_scores = validation_curve(\n",
        "     xgb.XGBRegressor(), X_train_pitch, y_train_pitch, param_name=\"C\", param_range=[100, 200, 300],\n",
        "    cv=5)\n",
        "print(f\"for pitch:{train_scores}\")\n",
        "print(f\"for pitch:{valid_scores}\")"
      ],
      "metadata": {
        "colab": {
          "base_uri": "https://localhost:8080/"
        },
        "id": "XJsTXcCYmIzI",
        "outputId": "b7d700a1-9875-4209-f595-2f3d57053d90"
      },
      "execution_count": null,
      "outputs": [
        {
          "output_type": "stream",
          "name": "stdout",
          "text": [
            "[09:39:32] WARNING: /workspace/src/objective/regression_obj.cu:152: reg:linear is now deprecated in favor of reg:squarederror.\n",
            "[09:39:38] WARNING: /workspace/src/objective/regression_obj.cu:152: reg:linear is now deprecated in favor of reg:squarederror.\n",
            "[09:39:44] WARNING: /workspace/src/objective/regression_obj.cu:152: reg:linear is now deprecated in favor of reg:squarederror.\n",
            "[09:39:50] WARNING: /workspace/src/objective/regression_obj.cu:152: reg:linear is now deprecated in favor of reg:squarederror.\n",
            "[09:39:56] WARNING: /workspace/src/objective/regression_obj.cu:152: reg:linear is now deprecated in favor of reg:squarederror.\n",
            "[09:40:02] WARNING: /workspace/src/objective/regression_obj.cu:152: reg:linear is now deprecated in favor of reg:squarederror.\n",
            "[09:40:08] WARNING: /workspace/src/objective/regression_obj.cu:152: reg:linear is now deprecated in favor of reg:squarederror.\n",
            "[09:40:14] WARNING: /workspace/src/objective/regression_obj.cu:152: reg:linear is now deprecated in favor of reg:squarederror.\n",
            "[09:40:19] WARNING: /workspace/src/objective/regression_obj.cu:152: reg:linear is now deprecated in favor of reg:squarederror.\n",
            "[09:40:25] WARNING: /workspace/src/objective/regression_obj.cu:152: reg:linear is now deprecated in favor of reg:squarederror.\n",
            "[09:40:33] WARNING: /workspace/src/objective/regression_obj.cu:152: reg:linear is now deprecated in favor of reg:squarederror.\n",
            "[09:40:39] WARNING: /workspace/src/objective/regression_obj.cu:152: reg:linear is now deprecated in favor of reg:squarederror.\n",
            "[09:40:45] WARNING: /workspace/src/objective/regression_obj.cu:152: reg:linear is now deprecated in favor of reg:squarederror.\n",
            "[09:40:51] WARNING: /workspace/src/objective/regression_obj.cu:152: reg:linear is now deprecated in favor of reg:squarederror.\n",
            "[09:40:57] WARNING: /workspace/src/objective/regression_obj.cu:152: reg:linear is now deprecated in favor of reg:squarederror.\n",
            "for pitch:[[0.96375306 0.96499434 0.96790979 0.96523204 0.93125452]\n",
            " [0.96375306 0.96499434 0.96790979 0.96523204 0.93125452]\n",
            " [0.96375306 0.96499434 0.96790979 0.96523204 0.93125452]]\n",
            "for pitch:[[ 0.68595374  0.59320907  0.6105958  -2.06797127  0.08211311]\n",
            " [ 0.68595374  0.59320907  0.6105958  -2.06797127  0.08211311]\n",
            " [ 0.68595374  0.59320907  0.6105958  -2.06797127  0.08211311]]\n"
          ]
        }
      ]
    },
    {
      "cell_type": "code",
      "source": [
        "train_scores, valid_scores = validation_curve(\n",
        "     xgb.XGBRegressor(), X_train_roll, y_train_roll, param_name=\"C\", param_range=[100, 200, 300],\n",
        "    cv=5)\n",
        "print(f\"for roll:{train_scores}\")\n",
        "print(f\"for roll:{valid_scores}\")"
      ],
      "metadata": {
        "colab": {
          "base_uri": "https://localhost:8080/"
        },
        "id": "2gH64IbbmJlg",
        "outputId": "bb3ff46b-186c-42c3-ecca-d7c8c6b4753b"
      },
      "execution_count": null,
      "outputs": [
        {
          "output_type": "stream",
          "name": "stdout",
          "text": [
            "[09:41:03] WARNING: /workspace/src/objective/regression_obj.cu:152: reg:linear is now deprecated in favor of reg:squarederror.\n",
            "[09:41:09] WARNING: /workspace/src/objective/regression_obj.cu:152: reg:linear is now deprecated in favor of reg:squarederror.\n",
            "[09:41:19] WARNING: /workspace/src/objective/regression_obj.cu:152: reg:linear is now deprecated in favor of reg:squarederror.\n",
            "[09:41:28] WARNING: /workspace/src/objective/regression_obj.cu:152: reg:linear is now deprecated in favor of reg:squarederror.\n",
            "[09:41:34] WARNING: /workspace/src/objective/regression_obj.cu:152: reg:linear is now deprecated in favor of reg:squarederror.\n",
            "[09:41:39] WARNING: /workspace/src/objective/regression_obj.cu:152: reg:linear is now deprecated in favor of reg:squarederror.\n",
            "[09:41:45] WARNING: /workspace/src/objective/regression_obj.cu:152: reg:linear is now deprecated in favor of reg:squarederror.\n",
            "[09:41:51] WARNING: /workspace/src/objective/regression_obj.cu:152: reg:linear is now deprecated in favor of reg:squarederror.\n",
            "[09:41:57] WARNING: /workspace/src/objective/regression_obj.cu:152: reg:linear is now deprecated in favor of reg:squarederror.\n",
            "[09:42:03] WARNING: /workspace/src/objective/regression_obj.cu:152: reg:linear is now deprecated in favor of reg:squarederror.\n",
            "[09:42:08] WARNING: /workspace/src/objective/regression_obj.cu:152: reg:linear is now deprecated in favor of reg:squarederror.\n",
            "[09:42:14] WARNING: /workspace/src/objective/regression_obj.cu:152: reg:linear is now deprecated in favor of reg:squarederror.\n",
            "[09:42:20] WARNING: /workspace/src/objective/regression_obj.cu:152: reg:linear is now deprecated in favor of reg:squarederror.\n",
            "[09:42:26] WARNING: /workspace/src/objective/regression_obj.cu:152: reg:linear is now deprecated in favor of reg:squarederror.\n",
            "[09:42:32] WARNING: /workspace/src/objective/regression_obj.cu:152: reg:linear is now deprecated in favor of reg:squarederror.\n",
            "for roll:[[0.98673133 0.98631241 0.98833085 0.98793195 0.9706864 ]\n",
            " [0.98673133 0.98631241 0.98833085 0.98793195 0.9706864 ]\n",
            " [0.98673133 0.98631241 0.98833085 0.98793195 0.9706864 ]]\n",
            "for roll:[[0.7622372  0.77472685 0.79640534 0.7132862  0.17075209]\n",
            " [0.7622372  0.77472685 0.79640534 0.7132862  0.17075209]\n",
            " [0.7622372  0.77472685 0.79640534 0.7132862  0.17075209]]\n"
          ]
        }
      ]
    },
    {
      "cell_type": "markdown",
      "source": [
        "# Fitting the best models and observing their MAE\n"
      ],
      "metadata": {
        "id": "Qb9KAR_wB-wa"
      }
    },
    {
      "cell_type": "code",
      "execution_count": 25,
      "metadata": {
        "colab": {
          "base_uri": "https://localhost:8080/"
        },
        "id": "qBUm5TjPrKso",
        "outputId": "33745235-22f0-4b68-e1d6-05a8fece2579"
      },
      "outputs": [
        {
          "output_type": "execute_result",
          "data": {
            "text/plain": [
              "0.06825412462448756"
            ]
          },
          "metadata": {},
          "execution_count": 25
        }
      ],
      "source": [
        "best_model_yaw = SVR(kernel = 'poly', C=100).fit(X_train_yaw, y_train_yaw)\n",
        "yp = best_model_yaw.predict(X_test_yaw)\n",
        "mean_absolute_error(y_test_yaw, yp)"
      ]
    },
    {
      "cell_type": "code",
      "execution_count": 26,
      "metadata": {
        "colab": {
          "base_uri": "https://localhost:8080/"
        },
        "id": "OHF4vojyrQCf",
        "outputId": "bf5560dd-6d5b-4fba-ea14-db85833d5ad2"
      },
      "outputs": [
        {
          "output_type": "execute_result",
          "data": {
            "text/plain": [
              "0.09264461060332531"
            ]
          },
          "metadata": {},
          "execution_count": 26
        }
      ],
      "source": [
        "best_model_pitch = SVR(kernel = 'poly', C=100).fit(X_train_pitch, y_train_pitch)\n",
        "yp = best_model_pitch.predict(X_test_pitch)\n",
        "mean_absolute_error(y_test_pitch, yp)"
      ]
    },
    {
      "cell_type": "code",
      "execution_count": 27,
      "metadata": {
        "colab": {
          "base_uri": "https://localhost:8080/"
        },
        "id": "ADSznqFGszEs",
        "outputId": "28bc7697-eaac-4b32-d629-44ddd8760fcf"
      },
      "outputs": [
        {
          "output_type": "stream",
          "name": "stdout",
          "text": [
            "[13:39:08] WARNING: /workspace/src/objective/regression_obj.cu:152: reg:linear is now deprecated in favor of reg:squarederror.\n"
          ]
        },
        {
          "output_type": "execute_result",
          "data": {
            "text/plain": [
              "0.06425137726110906"
            ]
          },
          "metadata": {},
          "execution_count": 27
        }
      ],
      "source": [
        "best_model_roll = xgb.XGBRegressor(reg_lambda = 100).fit(X_train_roll, y_train_roll)\n",
        "yp = best_model_roll.predict(X_test_roll)\n",
        "mean_absolute_error(y_test_roll, yp)"
      ]
    },
    {
      "cell_type": "markdown",
      "source": [
        "# Orgininal Axes"
      ],
      "metadata": {
        "id": "gHzUO38b8yew"
      }
    },
    {
      "cell_type": "code",
      "execution_count": null,
      "metadata": {
        "colab": {
          "base_uri": "https://localhost:8080/",
          "height": 485
        },
        "id": "U4CO8n2hs_99",
        "outputId": "fd05c9da-d0a2-442f-958d-8f6f467e2f1e"
      },
      "outputs": [
        {
          "output_type": "display_data",
          "data": {
            "text/plain": [
              "<PIL.Image.Image image mode=RGB size=450x450 at 0x7FBF97C1EA50>"
            ],
            "image/png": "[encoded data removed]"
          },
          "metadata": {}
        },
        {
          "output_type": "stream",
          "name": "stdout",
          "text": [
            "-0.6289137 -0.19141869 0.18062863\n"
          ]
        }
      ],
      "source": [
        "image = cv2.imread('/content/AFLW2000/'+'image00725'+'.jpg')\n",
        "# loading the mat file to extract the 3 angels of the face (pitch,yaw,roll)\n",
        "mat_file = sio.loadmat('/content/AFLW2000/'+'image00725'+'.mat')\n",
        "# extracting the labels 3 angels\n",
        "pose_para = mat_file[\"Pose_Para\"][0][:3]\n",
        "pitch = pose_para[0]\n",
        "yaw = pose_para[1]\n",
        "roll = pose_para[2]\n",
        "cv2_imshow(draw_axis(image,pitch,yaw,roll))\n",
        "print(yaw, pitch, roll)"
      ]
    },
    {
      "cell_type": "markdown",
      "source": [
        "# Predicted Axes"
      ],
      "metadata": {
        "id": "LwVCdxfO8-7k"
      }
    },
    {
      "cell_type": "code",
      "execution_count": null,
      "metadata": {
        "colab": {
          "base_uri": "https://localhost:8080/",
          "height": 538
        },
        "id": "S6EEpUF6tjcA",
        "outputId": "8caa0982-243c-45b7-ec5a-c7f7c74ba92d"
      },
      "outputs": [
        {
          "output_type": "stream",
          "name": "stdout",
          "text": [
            "image01845\n",
            "[-0.57607459]\n",
            "[-0.1197075]\n",
            "[0.20596376]\n"
          ]
        },
        {
          "output_type": "display_data",
          "data": {
            "text/plain": [
              "<PIL.Image.Image image mode=RGB size=450x450 at 0x7FBF97690AD0>"
            ],
            "image/png": "[encoded data removed]"
          },
          "metadata": {}
        }
      ],
      "source": [
        "test_xpts =[]\n",
        "test_ypts = []\n",
        "faceModule = mediapipe.solutions.face_mesh\n",
        "# loading image and its correspinding mat file\n",
        "with faceModule.FaceMesh(static_image_mode=True) as faces:\n",
        "  # loading the image\n",
        "      image = cv2.imread('/content/AFLW2000/'+\"image00725\"+'.jpg')\n",
        "      # processing the face to extract the landmark points (468 point) for each x,y,z\n",
        "      results = faces.process(cv2.cvtColor(image, cv2.COLOR_BGR2RGB))\n",
        "      if results.multi_face_landmarks != None: \n",
        "        x_img = []\n",
        "        y_img = []\n",
        "        # looping over the faces in the image\n",
        "        for face in results.multi_face_landmarks:\n",
        "            for  landmark in (face.landmark):\n",
        "                x = landmark.x\n",
        "                y = landmark.y\n",
        "                # note: the x and y values are scaled to the their width and height so we will get back their actual value in the image\n",
        "                shape = image.shape \n",
        "                relative_x = int(x * shape[1])\n",
        "                relative_y = int(y * shape[0])\n",
        "                x_img.append(relative_x)\n",
        "                y_img.append(relative_y)\n",
        "      test_xpts.append(x_img)\n",
        "      test_ypts.append(y_img)\n",
        "      test_xpts = np.array(test_xpts)\n",
        "      test_ypts = np.array(test_ypts)\n",
        "      test_xpts = test_xpts - test_xpts[:,99].reshape(-1,1)\n",
        "      test_ypts = test_ypts - test_ypts[:,99].reshape(-1,1)\n",
        "      \n",
        "      x300, y300 = test_xpts[:, 300],test_ypts[:, 300]\n",
        "      x131, y131 = test_xpts[:, 131],test_ypts[:, 131]\n",
        "      dist = np.linalg.norm(np.array((x300, y300)) - np.array((x131, y131)),axis = 0).reshape(-1,1)\n",
        "\n",
        "      featuers_x = test_xpts / dist\n",
        "      featuers_y = test_ypts / dist\n",
        "      featuers = np.hstack((featuers_x, featuers_y)).reshape(936,)\n",
        "      print(img)\n",
        "      yaw_predict = best_model_yaw.predict([featuers])\n",
        "      print(yaw_predict)\n",
        "      pitch_predict = best_model_pitch.predict([featuers])\n",
        "      print(pitch_predict)\n",
        "      roll_predict = best_model_roll.predict([featuers])\n",
        "      print(roll_predict)\n",
        "      cv2_imshow(draw_axis(image,pitch_predict,yaw_predict,roll_predict))\n"
      ]
    },
    {
      "cell_type": "markdown",
      "source": [
        "# Using the models to estimate poses from a new video by applying them on frame by fame\n"
      ],
      "metadata": {
        "id": "fXdsZ1P2XhF9"
      }
    },
    {
      "cell_type": "code",
      "execution_count": 28,
      "metadata": {
        "id": "LMnP0le6IFaj"
      },
      "outputs": [],
      "source": [
        "import cv2\n",
        "from google.colab import files \n",
        "from queue import Queue\n",
        "from statistics import mean\n",
        "# Opens the inbuilt camera of laptop to capture video.\n",
        "vid = cv2.VideoCapture('/content/drive/MyDrive/WIN_20220617_07_21_41_Pro.mp4')\n",
        "width= int(vid.get(cv2.CAP_PROP_FRAME_WIDTH))\n",
        "height= int(vid.get(cv2.CAP_PROP_FRAME_HEIGHT))\n",
        "currentframe = 0\n",
        "all_frames = []\n",
        "\n",
        "\n",
        "#Creating queues of angels to take averge of them at drawing\n",
        "size = 20\n",
        "pitch_queue = Queue(maxsize = size)\n",
        "yaw_queue = Queue(maxsize = size)\n",
        "roll_queue = Queue(maxsize = size)\n",
        "while (True):\n",
        "\n",
        "    # reading from frame\n",
        "    success, image = vid.read()\n",
        "    if success:\n",
        "      with faceModule.FaceMesh(static_image_mode=True) as faces:\n",
        "  # loading the image\n",
        "      # processing the face to extract the landmark points (468 point) for each x,y,z\n",
        "        results = faces.process(cv2.cvtColor(image, cv2.COLOR_BGR2RGB))\n",
        "        if results.multi_face_landmarks != None: \n",
        "          x_img = []\n",
        "          y_img = []\n",
        "          # looping over the faces in the image\n",
        "          for face in results.multi_face_landmarks:\n",
        "              for  landmark in (face.landmark):\n",
        "                  x = landmark.x\n",
        "                  y = landmark.y\n",
        "                  # note: the x and y values are scaled to the their width and height so we will get back their actual value in the image\n",
        "                  shape = image.shape \n",
        "                  relative_x = int(x * shape[1])\n",
        "                  relative_y = int(y * shape[0])\n",
        "                  x_img.append(relative_x)\n",
        "                  y_img.append(relative_y)\n",
        "        x_img = np.array(x_img)\n",
        "        y_img = np.array(y_img)\n",
        "        # Centering the data at index 99\n",
        "        x_img = x_img - x_img[99]\n",
        "        y_img = y_img - y_img[99]\n",
        "        # Choosing the distance between 2 random points and divide all points by that distance\n",
        "        x300, y300 = x_img[300],y_img[300]\n",
        "        x131, y131 = x_img[131],y_img[131]\n",
        "        dist = np.linalg.norm(np.array((x300, y300)) - np.array((x131, y131)),axis = 0).reshape(-1,1)\n",
        "        featuers_x = x_img / dist\n",
        "        featuers_y = y_img / dist\n",
        "        featuers = np.hstack((featuers_x, featuers_y)).reshape(936,)\n",
        "        if (pitch_queue.full()):\n",
        "                pitch_queue.get()\n",
        "                roll_queue.get()\n",
        "                yaw_queue.get()\n",
        "        yaw_predict = best_model_yaw.predict([featuers])\n",
        "        yaw_queue.put(yaw_predict)\n",
        "        pitch_predict = best_model_pitch.predict([featuers])\n",
        "        pitch_queue.put(pitch_predict)\n",
        "        roll_predict = best_model_roll.predict([featuers])\n",
        "        roll_queue.put(roll_predict)\n",
        "\n",
        "        pitch_l = list(pitch_queue.queue)\n",
        "        yaw_l = list(yaw_queue.queue)\n",
        "        roll_l = list(roll_queue.queue)\n",
        "\n",
        "        pitch_mean = sum(pitch_l)/len(pitch_l)\n",
        "        yaw_mean = sum(yaw_l)/len(yaw_l)\n",
        "        roll_mean =  sum(roll_l)/len(roll_l)\n",
        "\n",
        "        predicted_image = draw_axis(image,pitch_mean,yaw_mean,roll_mean, tdx =576 , tdy =360)\n",
        "        all_frames.append(predicted_image)\n",
        "        cv2.imwrite('/content/drive/MyDrive/outofframes/' + str(currentframe) + '.jpg' , predicted_image)\n",
        "          # increasing counter so that it will\n",
        "        currentframe += 1\n",
        "    else:\n",
        "        break\n",
        "\n",
        "# Release all space and windows once done\n",
        "vid.release()\n",
        "cv2.destroyAllWindows()"
      ]
    },
    {
      "cell_type": "code",
      "source": [
        "len(all_frames)"
      ],
      "metadata": {
        "colab": {
          "base_uri": "https://localhost:8080/"
        },
        "id": "pt4uPNldtquk",
        "outputId": "101d7db3-79d6-4411-b28e-d214279ecc6e"
      },
      "execution_count": null,
      "outputs": [
        {
          "output_type": "execute_result",
          "data": {
            "text/plain": [
              "469"
            ]
          },
          "metadata": {},
          "execution_count": 46
        }
      ]
    },
    {
      "cell_type": "code",
      "source": [
        "# converting the frames to video\n",
        "output_video = cv2.VideoWriter('output_video.mp4',cv2.VideoWriter_fourcc(*'DIVX'), 20, (width,height))\n",
        "for i in range(len(all_frames)):\n",
        "    output_video.write(all_frames[i])\n",
        "output_video.release()"
      ],
      "metadata": {
        "id": "0FV_KfZOJa9L"
      },
      "execution_count": 29,
      "outputs": []
    },
    {
      "cell_type": "code",
      "source": [
        ""
      ],
      "metadata": {
        "id": "yUMgyis95TFG"
      },
      "execution_count": null,
      "outputs": []
    }
  ],
  "metadata": {
    "colab": {
      "collapsed_sections": [],
      "name": "Osama_Elgendy_HPE.ipynb",
      "provenance": []
    },
    "kernelspec": {
      "display_name": "Python 3",
      "name": "python3"
    },
    "language_info": {
      "name": "python"
    }
  },
  "nbformat": 4,
  "nbformat_minor": 0
}